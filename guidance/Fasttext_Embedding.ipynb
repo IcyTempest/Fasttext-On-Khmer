{
 "cells": [
  {
   "cell_type": "markdown",
   "id": "aa2e8945-d951-401d-94c0-9a315a533a4a",
   "metadata": {
    "tags": []
   },
   "source": [
    "# Fasttext Embedding"
   ]
  },
  {
   "cell_type": "markdown",
   "id": "e516b280-97b7-47da-b78a-7c1e047cb971",
   "metadata": {},
   "source": [
    "<!-- ![alternative text](img/embedding.png) -->\n",
    "<img src=\"img/embedding.png\" width=\"800\">"
   ]
  },
  {
   "cell_type": "markdown",
   "id": "7a8eaf2a-63c6-45c3-9ef7-005a2661c66b",
   "metadata": {},
   "source": [
    "## Installation"
   ]
  },
  {
   "cell_type": "markdown",
   "id": "9c9b8b2d-a189-4860-8127-61bdb4fe83ef",
   "metadata": {},
   "source": [
    "fastText builds on modern Mac OS and Linux distributions. Since it uses C++11 features, it requires a compiler with good C++11 support. <br>\n",
    "**You will need Python (version 2.7 or ≥ 3.4), NumPy & SciPy and pybind11.**"
   ]
  },
  {
   "cell_type": "code",
   "execution_count": null,
   "id": "a863e2cf-9ade-49f6-a578-5d8817c6caff",
   "metadata": {},
   "outputs": [],
   "source": [
    "# !pip install fasttext"
   ]
  },
  {
   "cell_type": "markdown",
   "id": "360dca3d-1682-4e57-bef8-e1ef156713a6",
   "metadata": {},
   "source": [
    "## Word Representation"
   ]
  },
  {
   "cell_type": "code",
   "execution_count": 3,
   "id": "d7ca7d05-d1c4-44b8-a884-4d1a3b0734b6",
   "metadata": {},
   "outputs": [],
   "source": [
    "import fasttext"
   ]
  },
  {
   "cell_type": "markdown",
   "id": "dc255a66-2e9a-400e-bacf-0725f18e41ab",
   "metadata": {},
   "source": [
    "### Training"
   ]
  },
  {
   "cell_type": "code",
   "execution_count": null,
   "id": "4cb2a45a-7a83-4ca2-9663-f6300ab3aee9",
   "metadata": {},
   "outputs": [],
   "source": [
    "# Skipgram model :\n",
    "model = fasttext.train_unsupervised('data.txt', model='skipgram')\n",
    "\n",
    "# vs\n",
    "\n",
    "# Cbow model :\n",
    "model = fasttext.train_unsupervised('data.txt', model='cbow')"
   ]
  },
  {
   "cell_type": "code",
   "execution_count": 1,
   "outputs": [
    {
     "data": {
      "text/plain": "'CADT is at BLAH BLAH'"
     },
     "execution_count": 1,
     "metadata": {},
     "output_type": "execute_result"
    }
   ],
   "source": [
    "meFind = {\"FindCADT\": \"CADT is at BLAH BLAH\"}\n",
    "\n",
    "result = meFind[\"FindCADT\"]\n",
    "\n",
    "result"
   ],
   "metadata": {
    "collapsed": false
   }
  },
  {
   "cell_type": "markdown",
   "id": "c3ef52bc-cd50-492b-b2d2-4ed0cc177763",
   "metadata": {},
   "source": [
    "For more info: https://fasttext.cc/docs/en/python-module.html#train_unsupervised-parameters"
   ]
  },
  {
   "cell_type": "markdown",
   "id": "993d1b1d-e47b-4a95-95da-5e4e9fc23c42",
   "metadata": {},
   "source": [
    "Continuous Bag of Word(CBOW) vs Skipgram : https://towardsdatascience.com/nlp-101-word2vec-skip-gram-and-cbow-93512ee24314"
   ]
  },
  {
   "cell_type": "markdown",
   "id": "7bd443d9-cf16-4f79-88d9-d9efc1594423",
   "metadata": {},
   "source": [
    "### Model"
   ]
  },
  {
   "cell_type": "markdown",
   "id": "0dbff829-d3e9-4c6d-8f89-dfb5d5c842f9",
   "metadata": {},
   "source": [
    "The returned **model** object represents your learned model, and you can use it to retrieve information."
   ]
  },
  {
   "cell_type": "code",
   "execution_count": null,
   "id": "5bc2d434-832b-4d77-b9ac-d7f38fa705cd",
   "metadata": {},
   "outputs": [],
   "source": [
    "print(model.words)   # list of words in dictionary\n",
    "print(model['king']) # get the vector of the word 'king'"
   ]
  },
  {
   "cell_type": "markdown",
   "id": "bd8cb26b-c827-4b1d-9cab-507dc0a0bc81",
   "metadata": {},
   "source": [
    "For more info: https://fasttext.cc/docs/en/python-module.html#model-object"
   ]
  },
  {
   "cell_type": "markdown",
   "id": "8a879bf3-fac4-4048-beed-e257099f8ee9",
   "metadata": {},
   "source": [
    "### Saving and loading a model object"
   ]
  },
  {
   "cell_type": "markdown",
   "id": "faf7302a-f887-4cb4-ba3b-a040b6fa20af",
   "metadata": {},
   "source": [
    "You can save the trained model by"
   ]
  },
  {
   "cell_type": "code",
   "execution_count": null,
   "id": "81935275-db97-4746-b269-22ceb7bdf72d",
   "metadata": {},
   "outputs": [],
   "source": [
    "model.save_model(\"model_filename.bin\")"
   ]
  },
  {
   "cell_type": "markdown",
   "id": "d8c78dc9-5e59-4bae-8ab7-006e4fbe25d3",
   "metadata": {},
   "source": [
    "The saved model are usually save in **.bin** file format"
   ]
  },
  {
   "cell_type": "markdown",
   "id": "cb2dd22b-a84a-45a1-857d-f5b96fc29fc9",
   "metadata": {},
   "source": [
    "You can load the model later on without training again using"
   ]
  },
  {
   "cell_type": "code",
   "execution_count": null,
   "id": "46414833-1b3f-4e08-a192-eed2864943cb",
   "metadata": {},
   "outputs": [],
   "source": [
    "model = fasttext.load_model(\"model_filename.bin\")"
   ]
  },
  {
   "cell_type": "markdown",
   "id": "34eccecd-22ad-453e-922a-dda7d042ea60",
   "metadata": {},
   "source": [
    "### The Tutorial"
   ]
  },
  {
   "cell_type": "markdown",
   "id": "a0b3a58e-f3e2-4eff-b752-062e0b2a0c42",
   "metadata": {},
   "source": [
    "https://fasttext.cc/docs/en/unsupervised-tutorial.html"
   ]
  },
  {
   "cell_type": "markdown",
   "id": "05abb411-4f55-485b-9c1e-03028612254a",
   "metadata": {},
   "source": [
    "### Task"
   ]
  },
  {
   "cell_type": "markdown",
   "id": "d5c1c616-9e10-4f6d-be70-25f49962225f",
   "metadata": {},
   "source": [
    "Using the following **hyperparameters** try to train the word representation/embedding model"
   ]
  },
  {
   "cell_type": "code",
   "execution_count": 8,
   "id": "e0a822b1-784a-46a9-9db5-31b28a95484d",
   "metadata": {},
   "outputs": [],
   "source": [
    "# embedding_size = 300\n",
    "# window_size = 5\n",
    "# min_word = 2\n",
    "# max_word = 5\n",
    "# down_sampling = 1e-2\n",
    "# embedding_epoch=100\n",
    "# learning_rate = 0.25\n",
    "# # loss='softmax'\n",
    "# loss='hs'\n",
    "# model='skipgram'"
   ]
  },
  {
   "cell_type": "code",
   "execution_count": 9,
   "id": "fafd61b4-c8fd-4cfb-9bf0-bd8e2a90d656",
   "metadata": {},
   "outputs": [],
   "source": [
    "# %%time\n",
    "# model = fasttext.train_unsupervised()"
   ]
  },
  {
   "cell_type": "code",
   "execution_count": 10,
   "id": "43e9a5e1-e63a-4792-9298-aefbbe535507",
   "metadata": {},
   "outputs": [],
   "source": [
    "# !head dataset/task.txt"
   ]
  },
  {
   "cell_type": "markdown",
   "id": "014c9e93-00fa-4fa0-8dc0-c1cbda784341",
   "metadata": {},
   "source": [
    "save the model and restart the kernel of the notebook, then load the model and view the similarities between word."
   ]
  },
  {
   "cell_type": "code",
   "execution_count": null,
   "id": "1869ccaf-b836-4048-bd23-8da291c1bdb6",
   "metadata": {},
   "outputs": [],
   "source": []
  }
 ],
 "metadata": {
  "kernelspec": {
   "display_name": "Python 3 (ipykernel)",
   "language": "python",
   "name": "python3"
  },
  "language_info": {
   "codemirror_mode": {
    "name": "ipython",
    "version": 3
   },
   "file_extension": ".py",
   "mimetype": "text/x-python",
   "name": "python",
   "nbconvert_exporter": "python",
   "pygments_lexer": "ipython3",
   "version": "3.7.13"
  }
 },
 "nbformat": 4,
 "nbformat_minor": 5
}
