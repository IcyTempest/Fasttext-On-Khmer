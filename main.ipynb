{
 "cells": [
  {
   "cell_type": "code",
   "execution_count": 95,
   "outputs": [],
   "source": [
    "import fasttext\n",
    "import pandas as pd\n",
    "import re\n",
    "import random\n",
    "from sklearn.model_selection import train_test_split"
   ],
   "metadata": {
    "collapsed": false,
    "pycharm": {
     "name": "#%%\n"
    }
   }
  },
  {
   "cell_type": "code",
   "execution_count": 96,
   "outputs": [],
   "source": [
    "df = pd.read_csv(\"limit_200_segment_sentences.csv\", encoding=\"UTF-8\")\n",
    "oldIntentList = df.Intent.to_list()\n",
    "questionList = df.Question.to_list()\n",
    "f = open(\"data/data_file.txt\", mode=\"w\", encoding=\"UTF-8\")\n",
    "newIntentList = [re.sub(\"\\s\", \"-\", x) for x in oldIntentList]\n",
    "\n",
    "for intent,question in zip(newIntentList, questionList):\n",
    "    f.write(\"__label__{} {}\\n\".format(intent, question))\n",
    "f.close()"
   ],
   "metadata": {
    "collapsed": false,
    "pycharm": {
     "name": "#%%\n"
    }
   }
  },
  {
   "cell_type": "code",
   "execution_count": 97,
   "outputs": [],
   "source": [
    "f = open(\"data/data_file.txt\", mode=\"r\", encoding=\"UTF-8\")\n",
    "list = [x.strip() for x in f.readlines()]\n",
    "f.close()\n",
    "random.shuffle(list)\n",
    "train = list[int(len(list) * 0.21) : int(len(list) * 1.0)]\n",
    "test = list[int(len(list) * 0.0) : int(len(list) * 0.2)]\n",
    "f = open(\"data/train_file.txt\", mode=\"w\", encoding=\"UTF-8\")\n",
    "for x in train:\n",
    "    f.write(x+\"\\n\")\n",
    "f.close()\n",
    "\n",
    "f = open(\"Data/test_file.txt\", mode=\"w\", encoding=\"UTF-8\")\n",
    "for x in test:\n",
    "    f.write(x+\"\\n\")\n",
    "f.close()"
   ],
   "metadata": {
    "collapsed": false,
    "pycharm": {
     "name": "#%%\n"
    }
   }
  },
  {
   "cell_type": "code",
   "execution_count": 98,
   "outputs": [],
   "source": [
    "model = fasttext.train_supervised('data/train_file.txt')"
   ],
   "metadata": {
    "collapsed": false,
    "pycharm": {
     "name": "#%%\n"
    }
   }
  },
  {
   "cell_type": "code",
   "execution_count": 99,
   "outputs": [
    {
     "data": {
      "text/plain": "(2120, 0.9433962264150944, 0.9433962264150944)"
     },
     "execution_count": 99,
     "metadata": {},
     "output_type": "execute_result"
    }
   ],
   "source": [
    "model.test(\"data/test_file.txt\")"
   ],
   "metadata": {
    "collapsed": false,
    "pycharm": {
     "name": "#%%\n"
    }
   }
  },
  {
   "cell_type": "code",
   "execution_count": 105,
   "outputs": [
    {
     "data": {
      "text/plain": "(('__label__AskAboutAcademicFee',), array([0.74408054]))"
     },
     "execution_count": 105,
     "metadata": {},
     "output_type": "execute_result"
    }
   ],
   "source": [
    "model.predict(\"សាលា ស៊ីអេឌីធី ណា?\")\n",
    "# model.predict(\"បន្ទប់ HR នៅ ណា ទៅ ?\")"
   ],
   "metadata": {
    "collapsed": false,
    "pycharm": {
     "name": "#%%\n"
    }
   }
  },
  {
   "cell_type": "code",
   "execution_count": 78,
   "outputs": [],
   "source": [
    "model.save_model(\"bin1.bin\")"
   ],
   "metadata": {
    "collapsed": false,
    "pycharm": {
     "name": "#%%\n"
    }
   }
  },
  {
   "cell_type": "code",
   "execution_count": 79,
   "outputs": [
    {
     "name": "stderr",
     "output_type": "stream",
     "text": [
      "Warning : `load_model` does not return WordVectorModel or SupervisedModel any more, but a `FastText` object which is very similar.\n"
     ]
    }
   ],
   "source": [
    "model = fasttext.load_model(\"bin1.bin\")"
   ],
   "metadata": {
    "collapsed": false,
    "pycharm": {
     "name": "#%%\n"
    }
   }
  },
  {
   "cell_type": "code",
   "execution_count": 82,
   "outputs": [
    {
     "data": {
      "text/plain": "(('__label__FindECInfo',), array([0.38426891]))"
     },
     "execution_count": 82,
     "metadata": {},
     "output_type": "execute_result"
    }
   ],
   "source": [
    "model.predict(\"តើ ម៉ោង ប៉ុន្មាន ហើយ?\")"
   ],
   "metadata": {
    "collapsed": false,
    "pycharm": {
     "name": "#%%\n"
    }
   }
  },
  {
   "cell_type": "code",
   "execution_count": null,
   "outputs": [],
   "source": [],
   "metadata": {
    "collapsed": false,
    "pycharm": {
     "name": "#%%\n"
    }
   }
  }
 ],
 "metadata": {
  "kernelspec": {
   "display_name": "Python 3",
   "language": "python",
   "name": "python3"
  },
  "language_info": {
   "codemirror_mode": {
    "name": "ipython",
    "version": 2
   },
   "file_extension": ".py",
   "mimetype": "text/x-python",
   "name": "python",
   "nbconvert_exporter": "python",
   "pygments_lexer": "ipython2",
   "version": "2.7.6"
  }
 },
 "nbformat": 4,
 "nbformat_minor": 0
}